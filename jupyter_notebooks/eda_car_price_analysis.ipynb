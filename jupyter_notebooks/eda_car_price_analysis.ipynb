{
 "cells": [
  {
   "cell_type": "code",
   "execution_count": 1,
   "id": "b8de4456",
   "metadata": {},
   "outputs": [],
   "source": [
    "import pandas as pd"
   ]
  },
  {
   "cell_type": "markdown",
   "id": "78a84534",
   "metadata": {},
   "source": [
    "# Exploratory Data Analysis"
   ]
  },
  {
   "cell_type": "markdown",
   "id": "e1976e5f",
   "metadata": {},
   "source": [
    "Load clean dataset"
   ]
  },
  {
   "cell_type": "code",
   "execution_count": 2,
   "id": "426a17d8",
   "metadata": {},
   "outputs": [],
   "source": [
    "df = pd.read_csv(\"../data/inputs/cleaned/cleaned_car_data.csv\")"
   ]
  },
  {
   "cell_type": "code",
   "execution_count": 3,
   "id": "b21aa4c9",
   "metadata": {},
   "outputs": [
    {
     "data": {
      "text/html": [
       "<div>\n",
       "<style scoped>\n",
       "    .dataframe tbody tr th:only-of-type {\n",
       "        vertical-align: middle;\n",
       "    }\n",
       "\n",
       "    .dataframe tbody tr th {\n",
       "        vertical-align: top;\n",
       "    }\n",
       "\n",
       "    .dataframe thead th {\n",
       "        text-align: right;\n",
       "    }\n",
       "</style>\n",
       "<table border=\"1\" class=\"dataframe\">\n",
       "  <thead>\n",
       "    <tr style=\"text-align: right;\">\n",
       "      <th></th>\n",
       "      <th>symboling</th>\n",
       "      <th>fueltype</th>\n",
       "      <th>aspiration</th>\n",
       "      <th>doornumber</th>\n",
       "      <th>carbody</th>\n",
       "      <th>drivewheel</th>\n",
       "      <th>enginelocation</th>\n",
       "      <th>wheelbase</th>\n",
       "      <th>carlength</th>\n",
       "      <th>carwidth</th>\n",
       "      <th>...</th>\n",
       "      <th>stroke</th>\n",
       "      <th>compressionratio</th>\n",
       "      <th>horsepower</th>\n",
       "      <th>peakrpm</th>\n",
       "      <th>citympg</th>\n",
       "      <th>highwaympg</th>\n",
       "      <th>price</th>\n",
       "      <th>carbrand</th>\n",
       "      <th>price_per_hp</th>\n",
       "      <th>power_to_weight</th>\n",
       "    </tr>\n",
       "  </thead>\n",
       "  <tbody>\n",
       "    <tr>\n",
       "      <th>0</th>\n",
       "      <td>3</td>\n",
       "      <td>gas</td>\n",
       "      <td>std</td>\n",
       "      <td>two</td>\n",
       "      <td>convertible</td>\n",
       "      <td>rwd</td>\n",
       "      <td>front</td>\n",
       "      <td>88.6</td>\n",
       "      <td>168.8</td>\n",
       "      <td>64.1</td>\n",
       "      <td>...</td>\n",
       "      <td>2.68</td>\n",
       "      <td>9.0</td>\n",
       "      <td>111</td>\n",
       "      <td>5000</td>\n",
       "      <td>21</td>\n",
       "      <td>27</td>\n",
       "      <td>13495.0</td>\n",
       "      <td>alfa-romero</td>\n",
       "      <td>121.576577</td>\n",
       "      <td>0.043564</td>\n",
       "    </tr>\n",
       "    <tr>\n",
       "      <th>1</th>\n",
       "      <td>3</td>\n",
       "      <td>gas</td>\n",
       "      <td>std</td>\n",
       "      <td>two</td>\n",
       "      <td>convertible</td>\n",
       "      <td>rwd</td>\n",
       "      <td>front</td>\n",
       "      <td>88.6</td>\n",
       "      <td>168.8</td>\n",
       "      <td>64.1</td>\n",
       "      <td>...</td>\n",
       "      <td>2.68</td>\n",
       "      <td>9.0</td>\n",
       "      <td>111</td>\n",
       "      <td>5000</td>\n",
       "      <td>21</td>\n",
       "      <td>27</td>\n",
       "      <td>16500.0</td>\n",
       "      <td>alfa-romero</td>\n",
       "      <td>148.648649</td>\n",
       "      <td>0.043564</td>\n",
       "    </tr>\n",
       "    <tr>\n",
       "      <th>2</th>\n",
       "      <td>1</td>\n",
       "      <td>gas</td>\n",
       "      <td>std</td>\n",
       "      <td>two</td>\n",
       "      <td>hatchback</td>\n",
       "      <td>rwd</td>\n",
       "      <td>front</td>\n",
       "      <td>94.5</td>\n",
       "      <td>171.2</td>\n",
       "      <td>65.5</td>\n",
       "      <td>...</td>\n",
       "      <td>3.47</td>\n",
       "      <td>9.0</td>\n",
       "      <td>154</td>\n",
       "      <td>5000</td>\n",
       "      <td>19</td>\n",
       "      <td>26</td>\n",
       "      <td>16500.0</td>\n",
       "      <td>alfa-romero</td>\n",
       "      <td>107.142857</td>\n",
       "      <td>0.054552</td>\n",
       "    </tr>\n",
       "    <tr>\n",
       "      <th>3</th>\n",
       "      <td>2</td>\n",
       "      <td>gas</td>\n",
       "      <td>std</td>\n",
       "      <td>four</td>\n",
       "      <td>sedan</td>\n",
       "      <td>fwd</td>\n",
       "      <td>front</td>\n",
       "      <td>99.8</td>\n",
       "      <td>176.6</td>\n",
       "      <td>66.2</td>\n",
       "      <td>...</td>\n",
       "      <td>3.40</td>\n",
       "      <td>10.0</td>\n",
       "      <td>102</td>\n",
       "      <td>5500</td>\n",
       "      <td>24</td>\n",
       "      <td>30</td>\n",
       "      <td>13950.0</td>\n",
       "      <td>audi</td>\n",
       "      <td>136.764706</td>\n",
       "      <td>0.043646</td>\n",
       "    </tr>\n",
       "    <tr>\n",
       "      <th>4</th>\n",
       "      <td>2</td>\n",
       "      <td>gas</td>\n",
       "      <td>std</td>\n",
       "      <td>four</td>\n",
       "      <td>sedan</td>\n",
       "      <td>4wd</td>\n",
       "      <td>front</td>\n",
       "      <td>99.4</td>\n",
       "      <td>176.6</td>\n",
       "      <td>66.4</td>\n",
       "      <td>...</td>\n",
       "      <td>3.40</td>\n",
       "      <td>8.0</td>\n",
       "      <td>115</td>\n",
       "      <td>5500</td>\n",
       "      <td>18</td>\n",
       "      <td>22</td>\n",
       "      <td>17450.0</td>\n",
       "      <td>audi</td>\n",
       "      <td>151.739130</td>\n",
       "      <td>0.040722</td>\n",
       "    </tr>\n",
       "  </tbody>\n",
       "</table>\n",
       "<p>5 rows × 27 columns</p>\n",
       "</div>"
      ],
      "text/plain": [
       "   symboling fueltype aspiration doornumber      carbody drivewheel  \\\n",
       "0          3      gas        std        two  convertible        rwd   \n",
       "1          3      gas        std        two  convertible        rwd   \n",
       "2          1      gas        std        two    hatchback        rwd   \n",
       "3          2      gas        std       four        sedan        fwd   \n",
       "4          2      gas        std       four        sedan        4wd   \n",
       "\n",
       "  enginelocation  wheelbase  carlength  carwidth  ...  stroke  \\\n",
       "0          front       88.6      168.8      64.1  ...    2.68   \n",
       "1          front       88.6      168.8      64.1  ...    2.68   \n",
       "2          front       94.5      171.2      65.5  ...    3.47   \n",
       "3          front       99.8      176.6      66.2  ...    3.40   \n",
       "4          front       99.4      176.6      66.4  ...    3.40   \n",
       "\n",
       "   compressionratio horsepower peakrpm  citympg highwaympg    price  \\\n",
       "0               9.0        111    5000       21         27  13495.0   \n",
       "1               9.0        111    5000       21         27  16500.0   \n",
       "2               9.0        154    5000       19         26  16500.0   \n",
       "3              10.0        102    5500       24         30  13950.0   \n",
       "4               8.0        115    5500       18         22  17450.0   \n",
       "\n",
       "      carbrand  price_per_hp  power_to_weight  \n",
       "0  alfa-romero    121.576577         0.043564  \n",
       "1  alfa-romero    148.648649         0.043564  \n",
       "2  alfa-romero    107.142857         0.054552  \n",
       "3         audi    136.764706         0.043646  \n",
       "4         audi    151.739130         0.040722  \n",
       "\n",
       "[5 rows x 27 columns]"
      ]
     },
     "execution_count": 3,
     "metadata": {},
     "output_type": "execute_result"
    }
   ],
   "source": [
    "df.head(5)"
   ]
  },
  {
   "cell_type": "code",
   "execution_count": 5,
   "id": "724a5d4e",
   "metadata": {},
   "outputs": [
    {
     "data": {
      "text/plain": [
       "(205, 27)"
      ]
     },
     "execution_count": 5,
     "metadata": {},
     "output_type": "execute_result"
    }
   ],
   "source": [
    "df.shape"
   ]
  },
  {
   "cell_type": "markdown",
   "id": "8db95825",
   "metadata": {},
   "source": [
    "# Summary of Car Prices"
   ]
  },
  {
   "cell_type": "code",
   "execution_count": 8,
   "id": "2777d35b",
   "metadata": {},
   "outputs": [
    {
     "data": {
      "text/plain": [
       "count      205.000000\n",
       "mean     13276.710571\n",
       "std       7988.852332\n",
       "min       5118.000000\n",
       "25%       7788.000000\n",
       "50%      10295.000000\n",
       "75%      16503.000000\n",
       "max      45400.000000\n",
       "Name: price, dtype: float64"
      ]
     },
     "execution_count": 8,
     "metadata": {},
     "output_type": "execute_result"
    }
   ],
   "source": [
    "df[\"price\"].describe()"
   ]
  },
  {
   "cell_type": "markdown",
   "id": "b75557d9",
   "metadata": {},
   "source": [
    "### Average Car Price by Brand"
   ]
  },
  {
   "cell_type": "code",
   "execution_count": null,
   "id": "904b0826",
   "metadata": {},
   "outputs": [
    {
     "data": {
      "text/plain": [
       "carbrand\n",
       "jaguar         34600.000000\n",
       "buick          33647.000000\n",
       "porsche        31400.500000\n",
       "bmw            26118.750000\n",
       "volvo          18063.181818\n",
       "audi           17859.166714\n",
       "mercury        16503.000000\n",
       "alfa-romero    15498.333333\n",
       "peugeot        15489.090909\n",
       "saab           15223.333333\n",
       "mazda          10652.882353\n",
       "nissan         10415.666667\n",
       "volkswagen     10077.500000\n",
       "toyota          9885.812500\n",
       "renault         9595.000000\n",
       "mitsubishi      9239.769231\n",
       "isuzu           8916.500000\n",
       "subaru          8541.250000\n",
       "honda           8184.692308\n",
       "plymouth        7963.428571\n",
       "dodge           7875.444444\n",
       "chevrolet       6007.000000\n",
       "Name: price, dtype: float64"
      ]
     },
     "execution_count": 9,
     "metadata": {},
     "output_type": "execute_result"
    }
   ],
   "source": [
    "# Average car price by brand\n",
    "avg_price_by_brand = df.groupby(\"carbrand\",)[\"price\"].mean().sort_values(ascending=False)\n",
    "avg_price_by_brand"
   ]
  },
  {
   "cell_type": "markdown",
   "id": "e74d80bf",
   "metadata": {},
   "source": [
    "Understand the positioning of each brand (luxury vs budget)\n",
    "\n",
    "Start answering one of your business questions:\n",
    "“Which brands are most expensive on average?”"
   ]
  },
  {
   "cell_type": "code",
   "execution_count": 10,
   "id": "dbca82ef",
   "metadata": {},
   "outputs": [
    {
     "data": {
      "text/plain": [
       "carbrand\n",
       "jaguar         34600.00\n",
       "buick          33647.00\n",
       "porsche        31400.50\n",
       "bmw            26118.75\n",
       "volvo          18063.18\n",
       "audi           17859.17\n",
       "mercury        16503.00\n",
       "alfa-romero    15498.33\n",
       "peugeot        15489.09\n",
       "saab           15223.33\n",
       "mazda          10652.88\n",
       "nissan         10415.67\n",
       "volkswagen     10077.50\n",
       "toyota          9885.81\n",
       "renault         9595.00\n",
       "mitsubishi      9239.77\n",
       "isuzu           8916.50\n",
       "subaru          8541.25\n",
       "honda           8184.69\n",
       "plymouth        7963.43\n",
       "dodge           7875.44\n",
       "chevrolet       6007.00\n",
       "Name: price, dtype: float64"
      ]
     },
     "execution_count": 10,
     "metadata": {},
     "output_type": "execute_result"
    }
   ],
   "source": [
    "avg_price_by_brand.round(2)"
   ]
  },
  {
   "cell_type": "markdown",
   "id": "41445ebc",
   "metadata": {},
   "source": [
    "The top of the list = most expensive brands (e.g. jaguar, buick, porsche)\n",
    "\n",
    "The bottom = more affordable ones (e.g. chevrolet, dodge)"
   ]
  },
  {
   "cell_type": "markdown",
   "id": "c2a4dcf3",
   "metadata": {},
   "source": [
    "### Which Brands Offer Better Value"
   ]
  },
  {
   "cell_type": "code",
   "execution_count": 15,
   "id": "0d69b988",
   "metadata": {},
   "outputs": [
    {
     "data": {
      "text/plain": [
       "carbrand\n",
       "mitsubishi      88.32\n",
       "dodge           92.26\n",
       "plymouth        93.04\n",
       "mercury         94.30\n",
       "chevrolet       97.06\n",
       "subaru          98.27\n",
       "honda          101.18\n",
       "nissan         103.22\n",
       "renault        106.61\n",
       "toyota         109.57\n",
       "isuzu          116.12\n",
       "saab           120.98\n",
       "mazda          124.35\n",
       "alfa-romero    125.79\n",
       "volkswagen     128.07\n",
       "volvo          144.05\n",
       "audi           148.90\n",
       "porsche        152.68\n",
       "peugeot        156.49\n",
       "jaguar         174.21\n",
       "bmw            184.96\n",
       "buick          229.93\n",
       "Name: price_per_hp, dtype: float64"
      ]
     },
     "execution_count": 15,
     "metadata": {},
     "output_type": "execute_result"
    }
   ],
   "source": [
    "# Average price per horsepower by brand\n",
    "value_by_brand = df.groupby(\"carbrand\")[\"price_per_hp\"].mean().sort_values()\n",
    "value_by_brand.round(2)"
   ]
  },
  {
   "cell_type": "markdown",
   "id": "b5bb7f57",
   "metadata": {},
   "source": [
    "Brands at the top of the list give you more performance for less money.\n",
    "\n",
    "Brands at the bottom give you less performance per dollar (more expensive, luxury-focused)."
   ]
  },
  {
   "cell_type": "markdown",
   "id": "02ab3936",
   "metadata": {},
   "source": [
    "### Does Car Type Affect Price?"
   ]
  },
  {
   "cell_type": "code",
   "execution_count": 17,
   "id": "988d979f",
   "metadata": {},
   "outputs": [
    {
     "data": {
      "text/plain": [
       "carbody\n",
       "hardtop        22208.50\n",
       "convertible    21890.50\n",
       "sedan          14344.27\n",
       "wagon          12371.96\n",
       "hatchback      10376.65\n",
       "Name: price, dtype: float64"
      ]
     },
     "execution_count": 17,
     "metadata": {},
     "output_type": "execute_result"
    }
   ],
   "source": [
    "avg_price_by_body = df.groupby(\"carbody\")[\"price\"].mean().sort_values(ascending=False)\n",
    "avg_price_by_body.round(2)"
   ]
  },
  {
   "cell_type": "markdown",
   "id": "3a97abc1",
   "metadata": {},
   "source": [
    "Convertibles and hardtops are the most expensive, while hatchbacks are more budget-friendly. This supports the idea that body style influences pricing."
   ]
  },
  {
   "cell_type": "markdown",
   "id": "49a666b7",
   "metadata": {},
   "source": [
    "### Average Price by Fuel Type\n",
    "\n",
    "Let’s check if fuel type (gas or diesel) affects the car's price."
   ]
  },
  {
   "cell_type": "code",
   "execution_count": 20,
   "id": "d3759bf2",
   "metadata": {},
   "outputs": [
    {
     "data": {
      "text/plain": [
       "fueltype\n",
       "gas       12999.80\n",
       "diesel    15838.15\n",
       "Name: price, dtype: float64"
      ]
     },
     "execution_count": 20,
     "metadata": {},
     "output_type": "execute_result"
    }
   ],
   "source": [
    "avg_price_by_fueltype = df.groupby(\"fueltype\")[\"price\"].mean().sort_values()\n",
    "avg_price_by_fueltype.round(2)"
   ]
  },
  {
   "cell_type": "markdown",
   "id": "298c3d02",
   "metadata": {},
   "source": [
    "Diesel cars are more/less expensive than gas cars on average"
   ]
  },
  {
   "cell_type": "markdown",
   "id": "15e2f1c1",
   "metadata": {},
   "source": [
    "### City MPG by Car Body\n",
    "\n",
    "Find out which car types are more fuel efficient in the city."
   ]
  },
  {
   "cell_type": "code",
   "execution_count": 28,
   "id": "8defcfb8",
   "metadata": {},
   "outputs": [
    {
     "data": {
      "text/plain": [
       "carbody\n",
       "hatchback      26.31\n",
       "sedan          25.32\n",
       "wagon          24.04\n",
       "hardtop        21.62\n",
       "convertible    20.50\n",
       "Name: citympg, dtype: float64"
      ]
     },
     "execution_count": 28,
     "metadata": {},
     "output_type": "execute_result"
    }
   ],
   "source": [
    "avg_citympg_by_carbody = df.groupby(\"carbody\")[\"citympg\"].mean().sort_values(ascending=False)\n",
    "avg_citympg_by_carbody.round(2)"
   ]
  },
  {
   "cell_type": "markdown",
   "id": "ca8f6a9e",
   "metadata": {},
   "source": [
    "Hatchbacks are the most fuel-efficient cars in city driving"
   ]
  },
  {
   "cell_type": "code",
   "execution_count": 29,
   "id": "022c845c",
   "metadata": {},
   "outputs": [
    {
     "data": {
      "text/plain": [
       "carbody\n",
       "hatchback      32.17\n",
       "sedan          30.83\n",
       "wagon          28.72\n",
       "hardtop        27.25\n",
       "convertible    26.00\n",
       "Name: highwaympg, dtype: float64"
      ]
     },
     "execution_count": 29,
     "metadata": {},
     "output_type": "execute_result"
    }
   ],
   "source": [
    "avg_highwaympg_by_carbody = df.groupby(\"carbody\")[\"highwaympg\"].mean().sort_values(ascending=False)\n",
    "avg_highwaympg_by_carbody.round(2)"
   ]
  },
  {
   "cell_type": "markdown",
   "id": "bed950be",
   "metadata": {},
   "source": [
    "Hatchbacks are the most fuel-efficient cars in highway driving"
   ]
  },
  {
   "cell_type": "code",
   "execution_count": 30,
   "id": "b49cdbc5",
   "metadata": {},
   "outputs": [],
   "source": [
    "df.to_csv('../data/inputs/cleaned/cleaned_eda_data.csv', index=False)"
   ]
  }
 ],
 "metadata": {
  "kernelspec": {
   "display_name": ".venv",
   "language": "python",
   "name": "python3"
  },
  "language_info": {
   "codemirror_mode": {
    "name": "ipython",
    "version": 3
   },
   "file_extension": ".py",
   "mimetype": "text/x-python",
   "name": "python",
   "nbconvert_exporter": "python",
   "pygments_lexer": "ipython3",
   "version": "3.12.8"
  }
 },
 "nbformat": 4,
 "nbformat_minor": 5
}
